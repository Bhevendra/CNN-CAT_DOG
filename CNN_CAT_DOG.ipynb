{
 "cells": [
  {
   "cell_type": "markdown",
   "id": "6e37ee7e",
   "metadata": {},
   "source": [
    "# Convolutional Neural Network"
   ]
  },
  {
   "cell_type": "code",
   "execution_count": 18,
   "id": "fe982515",
   "metadata": {},
   "outputs": [],
   "source": [
    "import tensorflow as tf"
   ]
  },
  {
   "cell_type": "code",
   "execution_count": 19,
   "id": "c1f154a3",
   "metadata": {},
   "outputs": [],
   "source": [
    "from keras.preprocessing.image import ImageDataGenerator"
   ]
  },
  {
   "cell_type": "code",
   "execution_count": 20,
   "id": "48c37559",
   "metadata": {},
   "outputs": [
    {
     "data": {
      "text/plain": [
       "'2.10.0'"
      ]
     },
     "execution_count": 20,
     "metadata": {},
     "output_type": "execute_result"
    }
   ],
   "source": [
    "tf.__version__"
   ]
  },
  {
   "cell_type": "markdown",
   "id": "eb9dc8e0",
   "metadata": {},
   "source": [
    "## Data Preprocessing"
   ]
  },
  {
   "cell_type": "code",
   "execution_count": 21,
   "id": "eaef1447",
   "metadata": {},
   "outputs": [],
   "source": [
    "#preprocessing the Training Set"
   ]
  },
  {
   "cell_type": "code",
   "execution_count": 22,
   "id": "003ffeb7",
   "metadata": {},
   "outputs": [
    {
     "name": "stdout",
     "output_type": "stream",
     "text": [
      "Found 8000 images belonging to 2 classes.\n"
     ]
    }
   ],
   "source": [
    "train_datagen = ImageDataGenerator(rescale=1./255) #Feature Scaling\n",
    "training_set = train_datagen.flow_from_directory('Documents/CNN_dataset/training_set',\n",
    "                                                target_size=(64,64),\n",
    "                                                batch_size=32,\n",
    "                                                class_mode='binary') #Because we have Cat and Dog (only 2)"
   ]
  },
  {
   "cell_type": "code",
   "execution_count": 23,
   "id": "93849712",
   "metadata": {},
   "outputs": [
    {
     "name": "stdout",
     "output_type": "stream",
     "text": [
      "Found 2000 images belonging to 2 classes.\n"
     ]
    }
   ],
   "source": [
    "#Preprocessing the Test Set\n",
    "test_datagen = ImageDataGenerator(rescale=1./255)\n",
    "test_set = test_datagen.flow_from_directory('Documents/CNN_dataset/test_set/',\n",
    "                                            target_size=(64,64),\n",
    "                                            batch_size=32,\n",
    "                                            class_mode='binary')                  "
   ]
  },
  {
   "cell_type": "code",
   "execution_count": 24,
   "id": "1cc8e855",
   "metadata": {},
   "outputs": [],
   "source": [
    "#Initialize the CNN\n",
    "cnn = tf.keras.models.Sequential()"
   ]
  },
  {
   "cell_type": "code",
   "execution_count": 25,
   "id": "f0884769",
   "metadata": {},
   "outputs": [],
   "source": [
    "cnn.add(tf.keras.layers.Conv2D(filters=32, kernel_size=3, activation='relu', input_shape=[64,64,3])) #Step 1 - Convulation"
   ]
  },
  {
   "cell_type": "code",
   "execution_count": 26,
   "id": "ad19aff5",
   "metadata": {},
   "outputs": [],
   "source": [
    "cnn.add(tf.keras.layers.MaxPool2D(pool_size=2, strides=2))    #Step 2 - Pooling"
   ]
  },
  {
   "cell_type": "markdown",
   "id": "c4ad7df2",
   "metadata": {},
   "source": [
    "### Adding a second convolutional layer"
   ]
  },
  {
   "cell_type": "code",
   "execution_count": 27,
   "id": "35924fce",
   "metadata": {},
   "outputs": [],
   "source": [
    "cnn.add(tf.keras.layers.Conv2D(filters=32, kernel_size=3, activation='relu'))\n",
    "cnn.add(tf.keras.layers.MaxPool2D(pool_size=2, strides=2))"
   ]
  },
  {
   "cell_type": "code",
   "execution_count": 28,
   "id": "2cfb3371",
   "metadata": {},
   "outputs": [],
   "source": [
    "#Step - 3 -> Flattening\n",
    "\n",
    "cnn.add(tf.keras.layers.Flatten())"
   ]
  },
  {
   "cell_type": "code",
   "execution_count": 29,
   "id": "87191914",
   "metadata": {},
   "outputs": [],
   "source": [
    "#Step - 4 -> Full Connection\n",
    "\n",
    "cnn.add(tf.keras.layers.Dense(units=128, activation='relu'))"
   ]
  },
  {
   "cell_type": "code",
   "execution_count": 30,
   "id": "cd64a903",
   "metadata": {},
   "outputs": [],
   "source": [
    "#Step - 5 -> Output Layer\n",
    "\n",
    "cnn.add(tf.keras.layers.Dense(units=1, activation='sigmoid'))"
   ]
  },
  {
   "cell_type": "markdown",
   "id": "0df6b263",
   "metadata": {},
   "source": [
    "### Training the CNN"
   ]
  },
  {
   "cell_type": "code",
   "execution_count": 32,
   "id": "06c7169a",
   "metadata": {},
   "outputs": [
    {
     "name": "stdout",
     "output_type": "stream",
     "text": [
      "Epoch 1/25\n",
      "250/250 [==============================] - 52s 202ms/step - loss: 0.6337 - accuracy: 0.6211 - val_loss: 0.5632 - val_accuracy: 0.7050\n",
      "Epoch 2/25\n",
      "250/250 [==============================] - 52s 209ms/step - loss: 0.5362 - accuracy: 0.7289 - val_loss: 0.5681 - val_accuracy: 0.7015\n",
      "Epoch 3/25\n",
      "250/250 [==============================] - 53s 211ms/step - loss: 0.4818 - accuracy: 0.7719 - val_loss: 0.5528 - val_accuracy: 0.7210\n",
      "Epoch 4/25\n",
      "250/250 [==============================] - 52s 209ms/step - loss: 0.4470 - accuracy: 0.7915 - val_loss: 0.4968 - val_accuracy: 0.7630\n",
      "Epoch 5/25\n",
      "250/250 [==============================] - 54s 217ms/step - loss: 0.3958 - accuracy: 0.8185 - val_loss: 0.5208 - val_accuracy: 0.7540\n",
      "Epoch 6/25\n",
      "250/250 [==============================] - 52s 208ms/step - loss: 0.3479 - accuracy: 0.8400 - val_loss: 0.5512 - val_accuracy: 0.7540\n",
      "Epoch 7/25\n",
      "250/250 [==============================] - 53s 210ms/step - loss: 0.2928 - accuracy: 0.8695 - val_loss: 0.5666 - val_accuracy: 0.7635\n",
      "Epoch 8/25\n",
      "250/250 [==============================] - 59s 236ms/step - loss: 0.2357 - accuracy: 0.8978 - val_loss: 0.5802 - val_accuracy: 0.7620\n",
      "Epoch 9/25\n",
      "250/250 [==============================] - 41s 163ms/step - loss: 0.1794 - accuracy: 0.9277 - val_loss: 0.6427 - val_accuracy: 0.7625\n",
      "Epoch 10/25\n",
      "250/250 [==============================] - 52s 207ms/step - loss: 0.1281 - accuracy: 0.9507 - val_loss: 0.7814 - val_accuracy: 0.7515\n",
      "Epoch 11/25\n",
      "250/250 [==============================] - 53s 211ms/step - loss: 0.0839 - accuracy: 0.9720 - val_loss: 0.7794 - val_accuracy: 0.7630\n",
      "Epoch 12/25\n",
      "250/250 [==============================] - 55s 222ms/step - loss: 0.0612 - accuracy: 0.9812 - val_loss: 0.8935 - val_accuracy: 0.7660\n",
      "Epoch 13/25\n",
      "250/250 [==============================] - 55s 221ms/step - loss: 0.0373 - accuracy: 0.9896 - val_loss: 0.9878 - val_accuracy: 0.7685\n",
      "Epoch 14/25\n",
      "250/250 [==============================] - 53s 214ms/step - loss: 0.0316 - accuracy: 0.9926 - val_loss: 1.0218 - val_accuracy: 0.7540\n",
      "Epoch 15/25\n",
      "250/250 [==============================] - 55s 220ms/step - loss: 0.0283 - accuracy: 0.9914 - val_loss: 1.0962 - val_accuracy: 0.7685\n",
      "Epoch 16/25\n",
      "250/250 [==============================] - 56s 223ms/step - loss: 0.0147 - accuracy: 0.9977 - val_loss: 1.1386 - val_accuracy: 0.7650\n",
      "Epoch 17/25\n",
      "250/250 [==============================] - 54s 215ms/step - loss: 0.0226 - accuracy: 0.9941 - val_loss: 1.2510 - val_accuracy: 0.7605\n",
      "Epoch 18/25\n",
      "250/250 [==============================] - 59s 238ms/step - loss: 0.0420 - accuracy: 0.9850 - val_loss: 1.2023 - val_accuracy: 0.7410\n",
      "Epoch 19/25\n",
      "250/250 [==============================] - 64s 258ms/step - loss: 0.0238 - accuracy: 0.9939 - val_loss: 1.2810 - val_accuracy: 0.7600\n",
      "Epoch 20/25\n",
      "250/250 [==============================] - 49s 195ms/step - loss: 0.0067 - accuracy: 0.9992 - val_loss: 1.4056 - val_accuracy: 0.7695\n",
      "Epoch 21/25\n",
      "250/250 [==============================] - 37s 149ms/step - loss: 0.0014 - accuracy: 1.0000 - val_loss: 1.5458 - val_accuracy: 0.7700\n",
      "Epoch 22/25\n",
      "250/250 [==============================] - 35s 141ms/step - loss: 7.1310e-04 - accuracy: 1.0000 - val_loss: 1.5985 - val_accuracy: 0.7695\n",
      "Epoch 23/25\n",
      "250/250 [==============================] - 36s 144ms/step - loss: 5.0513e-04 - accuracy: 1.0000 - val_loss: 1.6457 - val_accuracy: 0.7705\n",
      "Epoch 24/25\n",
      "250/250 [==============================] - 36s 144ms/step - loss: 3.8305e-04 - accuracy: 1.0000 - val_loss: 1.6923 - val_accuracy: 0.7670\n",
      "Epoch 25/25\n",
      "250/250 [==============================] - 35s 141ms/step - loss: 3.1200e-04 - accuracy: 1.0000 - val_loss: 1.7347 - val_accuracy: 0.7685\n"
     ]
    },
    {
     "data": {
      "text/plain": [
       "<keras.callbacks.History at 0x1b39f9e6b50>"
      ]
     },
     "execution_count": 32,
     "metadata": {},
     "output_type": "execute_result"
    }
   ],
   "source": [
    "cnn.compile(optimizer='adam',loss='binary_crossentropy', metrics=['accuracy'])   # Compiling the CNN\n",
    "cnn.fit(x = training_set, validation_data=test_set,epochs=25) #Training"
   ]
  },
  {
   "cell_type": "code",
   "execution_count": 34,
   "id": "8614e26f",
   "metadata": {},
   "outputs": [
    {
     "ename": "AttributeError",
     "evalue": "module 'keras.preprocessing.image' has no attribute 'load_img'",
     "output_type": "error",
     "traceback": [
      "\u001b[1;31m---------------------------------------------------------------------------\u001b[0m",
      "\u001b[1;31mAttributeError\u001b[0m                            Traceback (most recent call last)",
      "Input \u001b[1;32mIn [34]\u001b[0m, in \u001b[0;36m<cell line: 5>\u001b[1;34m()\u001b[0m\n\u001b[0;32m      3\u001b[0m \u001b[38;5;28;01mimport\u001b[39;00m \u001b[38;5;21;01mnumpy\u001b[39;00m \u001b[38;5;28;01mas\u001b[39;00m \u001b[38;5;21;01mnp\u001b[39;00m\n\u001b[0;32m      4\u001b[0m \u001b[38;5;28;01mfrom\u001b[39;00m \u001b[38;5;21;01mkeras\u001b[39;00m\u001b[38;5;21;01m.\u001b[39;00m\u001b[38;5;21;01mpreprocessing\u001b[39;00m \u001b[38;5;28;01mimport\u001b[39;00m image\n\u001b[1;32m----> 5\u001b[0m test_image \u001b[38;5;241m=\u001b[39m \u001b[43mimage\u001b[49m\u001b[38;5;241;43m.\u001b[39;49m\u001b[43mload_img\u001b[49m(\u001b[38;5;124m'\u001b[39m\u001b[38;5;124mDocuments/CNN_dataset/Check/cat_or_dog_1.jpg\u001b[39m\u001b[38;5;124m'\u001b[39m, target_size \u001b[38;5;241m=\u001b[39m (\u001b[38;5;241m64\u001b[39m,\u001b[38;5;241m64\u001b[39m))\n\u001b[0;32m      6\u001b[0m test_image \u001b[38;5;241m=\u001b[39m image\u001b[38;5;241m.\u001b[39mimg_to_array(test_image)\n\u001b[0;32m      7\u001b[0m test_image \u001b[38;5;241m=\u001b[39m np\u001b[38;5;241m.\u001b[39mexpand_dims(test_image, axis \u001b[38;5;241m=\u001b[39m \u001b[38;5;241m0\u001b[39m)\n",
      "\u001b[1;31mAttributeError\u001b[0m: module 'keras.preprocessing.image' has no attribute 'load_img'"
     ]
    }
   ],
   "source": [
    "#Checking\n",
    "\n",
    "import numpy as np\n",
    "from keras.preprocessing import image\n",
    "test_image = image.load_img('Documents/CNN_dataset/Check/cat_or_dog_1.jpg', target_size = (64,64))\n",
    "test_image = image.img_to_array(test_image)\n",
    "test_image = np.expand_dims(test_image, axis = 0)\n",
    "result = cnn.predict(test_image/255.0)\n",
    "training_set.class_indices\n",
    "if result[0][0] == 1:\n",
    "    prediction = 'dog'\n",
    "else:\n",
    "    prediction = 'cat'"
   ]
  },
  {
   "cell_type": "code",
   "execution_count": null,
   "id": "f236f8c2",
   "metadata": {},
   "outputs": [],
   "source": []
  }
 ],
 "metadata": {
  "kernelspec": {
   "display_name": "Python 3 (ipykernel)",
   "language": "python",
   "name": "python3"
  },
  "language_info": {
   "codemirror_mode": {
    "name": "ipython",
    "version": 3
   },
   "file_extension": ".py",
   "mimetype": "text/x-python",
   "name": "python",
   "nbconvert_exporter": "python",
   "pygments_lexer": "ipython3",
   "version": "3.9.12"
  }
 },
 "nbformat": 4,
 "nbformat_minor": 5
}
